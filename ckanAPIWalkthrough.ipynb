{
 "cells": [
  {
   "cell_type": "code",
   "execution_count": 1,
   "metadata": {},
   "outputs": [],
   "source": [
    "import requests,json\n",
    "apiKey=os.getenv('CKANAPIKEY')\n",
    "if apiKey is None:\n",
    "    raise EnvironmentError(\"Failed because {} is not set.\".format('CKANAPIKEY'))"
   ]
  },
  {
   "cell_type": "markdown",
   "metadata": {},
   "source": [
    "## ckan hierarchy\n",
    "- groups\n",
    "    - organizations\n",
    "        - datasets\n",
    "            - datasources"
   ]
  },
  {
   "cell_type": "markdown",
   "metadata": {},
   "source": [
    "## list organizations"
   ]
  },
  {
   "cell_type": "code",
   "execution_count": 2,
   "metadata": {},
   "outputs": [
    {
     "name": "stdout",
     "output_type": "stream",
     "text": [
      "<Response [200]>\n",
      "{\n",
      "    \"help\": \"http://hotshot.sdsc.edu:5000/api/3/action/help_show?name=organization_list\",\n",
      "    \"result\": [\n",
      "        \"array-of-things\",\n",
      "        \"hpwren\"\n",
      "    ],\n",
      "    \"success\": true\n",
      "}\n"
     ]
    }
   ],
   "source": [
    "sageCommonsURL='http://hotshot.sdsc.edu:5000'\n",
    "apiAction='/api/3/action/organization_list'\n",
    "url = sageCommonsURL+apiAction\n",
    "\n",
    "response = requests.post(url,headers={\"Authorization\": apiKey})\n",
    "print(response)\n",
    "print(json.dumps(response.json(), indent=4, sort_keys=True))"
   ]
  },
  {
   "cell_type": "markdown",
   "metadata": {},
   "source": [
    "## list packages (also known as datasets)"
   ]
  },
  {
   "cell_type": "code",
   "execution_count": 3,
   "metadata": {},
   "outputs": [
    {
     "name": "stdout",
     "output_type": "stream",
     "text": [
      "<Response [200]>\n",
      "{\n",
      "    \"help\": \"http://hotshot.sdsc.edu:5000/api/3/action/help_show?name=package_list\",\n",
      "    \"result\": [\n",
      "        \"cameras\",\n",
      "        \"chicago-daily\",\n",
      "        \"chicago-monthly\",\n",
      "        \"chicago-weekly\",\n",
      "        \"fire-ignition-library\"\n",
      "    ],\n",
      "    \"success\": true\n",
      "}\n"
     ]
    }
   ],
   "source": [
    "sageCommonsURL='http://hotshot.sdsc.edu:5000'\n",
    "apiAction='/api/3/action/package_list'\n",
    "url = sageCommonsURL+apiAction\n",
    "\n",
    "response = requests.post(url,headers={\"Authorization\": apiKey})\n",
    "print(response)\n",
    "print(json.dumps(response.json(), indent=4, sort_keys=True))"
   ]
  },
  {
   "cell_type": "markdown",
   "metadata": {},
   "source": [
    "## Show organization details"
   ]
  },
  {
   "cell_type": "code",
   "execution_count": 4,
   "metadata": {},
   "outputs": [
    {
     "name": "stdout",
     "output_type": "stream",
     "text": [
      "<Response [200]>\n",
      "{\n",
      "    \"help\": \"http://hotshot.sdsc.edu:5000/api/3/action/help_show?name=organization_show\",\n",
      "    \"result\": {\n",
      "        \"approval_status\": \"approved\",\n",
      "        \"created\": \"2020-10-29T22:49:14.260964\",\n",
      "        \"description\": \"The Array of Things (AoT) is a collaborative effort among scientists, universities, \\nfederallocal government,industry partners, and communities to collect real-time data on urban environment, \\ninfrastructure, and activity for research and public use. AoT uses an open intelligent sensing and edge computing \\nplatform called Waggle, developed at Argonne National Laboratory. AoT is funded primarily by the U.S. National \\nScience Foundation. As of October 2019, AoT became an anchor partner in a new NSF-funded project called \\nSAGE: A Software-Defined Sensor Network led by Northwestern University in partnership with the University \\nof Chicago, Argonne National Laboratory, the University of Colorado, the University of California-San Diego, \\nNorthern Illinois University, Chicago's Lincoln Park Zoo, the University of Utah, and George Mason University.\",\n",
      "        \"display_name\": \"array-of-things\",\n",
      "        \"extras\": [],\n",
      "        \"groups\": [],\n",
      "        \"id\": \"863d314c-f8ee-43f4-8554-dac5681bb466\",\n",
      "        \"image_display_url\": \"https://arrayofthings.github.io/images/ArrayofThingsLogo-small.png\",\n",
      "        \"image_url\": \"https://arrayofthings.github.io/images/ArrayofThingsLogo-small.png\",\n",
      "        \"is_organization\": true,\n",
      "        \"name\": \"array-of-things\",\n",
      "        \"num_followers\": 0,\n",
      "        \"package_count\": 3,\n",
      "        \"revision_id\": \"5f198ac5-a71c-42e5-ab86-e3dc33fe257e\",\n",
      "        \"state\": \"active\",\n",
      "        \"tags\": [],\n",
      "        \"title\": \"\",\n",
      "        \"type\": \"organization\",\n",
      "        \"users\": [\n",
      "            {\n",
      "                \"about\": null,\n",
      "                \"activity_streams_email_notifications\": false,\n",
      "                \"capacity\": \"admin\",\n",
      "                \"created\": \"2020-09-04T21:57:38.166937\",\n",
      "                \"display_name\": \"i3perez\",\n",
      "                \"email_hash\": \"98175903330fc36d51a0746756c23aab\",\n",
      "                \"fullname\": null,\n",
      "                \"id\": \"abbb7828-b01e-41e4-b9fb-00413a8336ca\",\n",
      "                \"name\": \"i3perez\",\n",
      "                \"number_created_packages\": 5,\n",
      "                \"number_of_edits\": 94,\n",
      "                \"state\": \"active\",\n",
      "                \"sysadmin\": true\n",
      "            }\n",
      "        ]\n",
      "    },\n",
      "    \"success\": true\n",
      "}\n"
     ]
    }
   ],
   "source": [
    "sageCommonsURL='http://hotshot.sdsc.edu:5000'\n",
    "apiAction='/api/3/action/organization_show'\n",
    "url = sageCommonsURL+apiAction\n",
    "\n",
    "payload = {'id': 'array-of-things'\n",
    "          }\n",
    "\n",
    "response = requests.post(url,headers={\"Authorization\": apiKey},json = payload)\n",
    "print(response)\n",
    "print(json.dumps(response.json(), indent=4, sort_keys=True))"
   ]
  },
  {
   "cell_type": "markdown",
   "metadata": {},
   "source": [
    "## Create organization"
   ]
  },
  {
   "cell_type": "code",
   "execution_count": 7,
   "metadata": {},
   "outputs": [
    {
     "name": "stdout",
     "output_type": "stream",
     "text": [
      "<Response [200]>\n",
      "{\n",
      "    \"help\": \"http://hotshot.sdsc.edu:5000/api/3/action/help_show?name=organization_create\",\n",
      "    \"result\": {\n",
      "        \"approval_status\": \"approved\",\n",
      "        \"created\": \"2020-10-30T01:55:38.413791\",\n",
      "        \"description\": \"The Array of Things (AoT) is a collaborative effort among scientists, universities, \\nfederallocal government,industry partners, and communities to collect real-time data on urban environment, \\ninfrastructure, and activity for research and public use. AoT uses an open intelligent sensing and edge computing \\nplatform called Waggle, developed at Argonne National Laboratory. AoT is funded primarily by the U.S. National \\nScience Foundation. As of October 2019, AoT became an anchor partner in a new NSF-funded project called \\nSAGE: A Software-Defined Sensor Network led by Northwestern University in partnership with the University \\nof Chicago, Argonne National Laboratory, the University of Colorado, the University of California-San Diego, \\nNorthern Illinois University, Chicago's Lincoln Park Zoo, the University of Utah, and George Mason University.\",\n",
      "        \"display_name\": \"array-of-things\",\n",
      "        \"extras\": [],\n",
      "        \"groups\": [],\n",
      "        \"id\": \"3146a203-8772-4fae-a2e8-8636202ac48b\",\n",
      "        \"image_display_url\": \"https://arrayofthings.github.io/images/ArrayofThingsLogo-small.png\",\n",
      "        \"image_url\": \"https://arrayofthings.github.io/images/ArrayofThingsLogo-small.png\",\n",
      "        \"is_organization\": true,\n",
      "        \"name\": \"array-of-things\",\n",
      "        \"num_followers\": 0,\n",
      "        \"package_count\": 0,\n",
      "        \"revision_id\": \"43b7d374-a9ce-4bf4-8cce-1b3ba6e5746e\",\n",
      "        \"state\": \"active\",\n",
      "        \"tags\": [],\n",
      "        \"title\": \"\",\n",
      "        \"type\": \"organization\",\n",
      "        \"users\": [\n",
      "            {\n",
      "                \"about\": null,\n",
      "                \"activity_streams_email_notifications\": false,\n",
      "                \"capacity\": \"admin\",\n",
      "                \"created\": \"2020-09-04T21:57:38.166937\",\n",
      "                \"display_name\": \"i3perez\",\n",
      "                \"email_hash\": \"98175903330fc36d51a0746756c23aab\",\n",
      "                \"fullname\": null,\n",
      "                \"id\": \"abbb7828-b01e-41e4-b9fb-00413a8336ca\",\n",
      "                \"name\": \"i3perez\",\n",
      "                \"number_created_packages\": 2,\n",
      "                \"number_of_edits\": 100,\n",
      "                \"state\": \"active\",\n",
      "                \"sysadmin\": true\n",
      "            }\n",
      "        ]\n",
      "    },\n",
      "    \"success\": true\n",
      "}\n"
     ]
    }
   ],
   "source": [
    "sageCommonsURL='http://hotshot.sdsc.edu:5000'\n",
    "apiAction='/api/3/action/organization_create'\n",
    "url = sageCommonsURL+apiAction\n",
    "\n",
    "description = \"\"\"The Array of Things (AoT) is a collaborative effort among scientists, universities, \n",
    "federallocal government,industry partners, and communities to collect real-time data on urban environment, \n",
    "infrastructure, and activity for research and public use. AoT uses an open intelligent sensing and edge computing \n",
    "platform called Waggle, developed at Argonne National Laboratory. AoT is funded primarily by the U.S. National \n",
    "Science Foundation. As of October 2019, AoT became an anchor partner in a new NSF-funded project called \n",
    "SAGE: A Software-Defined Sensor Network led by Northwestern University in partnership with the University \n",
    "of Chicago, Argonne National Laboratory, the University of Colorado, the University of California-San Diego, \n",
    "Northern Illinois University, Chicago's Lincoln Park Zoo, the University of Utah, and George Mason University.\"\"\"\n",
    "\n",
    "imageURL = 'https://arrayofthings.github.io/images/ArrayofThingsLogo-small.png'\n",
    "payload = {'name': 'array-of-things',\n",
    "           'description': description,\n",
    "           'image_url': imageURL\n",
    "          }\n",
    "files = []\n",
    "headers = {'Authorization': apiKey}\n",
    "response = requests.request(\"POST\", url, headers=headers, json = payload, files = files)\n",
    "jsonResponse = response.json()\n",
    "print(response)\n",
    "print(json.dumps(jsonResponse, indent=4, sort_keys=True))"
   ]
  },
  {
   "cell_type": "markdown",
   "metadata": {},
   "source": [
    "## delete organization from database"
   ]
  },
  {
   "cell_type": "code",
   "execution_count": 6,
   "metadata": {},
   "outputs": [
    {
     "name": "stdout",
     "output_type": "stream",
     "text": [
      "<Response [200]>\n",
      "{\n",
      "    \"help\": \"http://hotshot.sdsc.edu:5000/api/3/action/help_show?name=organization_purge\",\n",
      "    \"result\": null,\n",
      "    \"success\": true\n",
      "}\n"
     ]
    }
   ],
   "source": [
    "# sageCommonsURL='http://hotshot.sdsc.edu:5000'\n",
    "# apiAction='/api/3/action/organization_purge'\n",
    "# url = sageCommonsURL+apiAction\n",
    "\n",
    "# payload = {'id': 'array-of-things'\n",
    "#           }\n",
    "\n",
    "# response = requests.post(url,headers={\"Authorization\": apiKey},json = payload)\n",
    "# print(response)\n",
    "# print(json.dumps(response.json(), indent=4, sort_keys=True))"
   ]
  },
  {
   "cell_type": "markdown",
   "metadata": {},
   "source": [
    "## create a new dataset (package)"
   ]
  },
  {
   "cell_type": "code",
   "execution_count": null,
   "metadata": {},
   "outputs": [],
   "source": [
    "sageCommonsURL='http://hotshot.sdsc.edu:5000'\n",
    "apiAction='/api/3/action/package_create'\n",
    "url = sageCommonsURL+apiAction\n",
    "dataPath='/Users/iperezx/Documents/sage-commons/aot/data.csv'\n",
    "tags = [{'name':'csv'},{'name':'waggle'},{'name':'sensors'}]\n",
    "payload = {'owner_org': 'array-of-things',\n",
    "           'title': 'Denver',\n",
    "           'name' : 'denver',\n",
    "           'notes': 'Description of dataset',\n",
    "           'tags' : tags\n",
    "          }\n",
    "files = []\n",
    "headers = {'Authorization': apiKey}\n",
    "response = requests.request(\"POST\", url, headers=headers, json = payload, files = files)\n",
    "jsonResponse = response.json()\n",
    "print(response)\n",
    "print(json.dumps(jsonResponse, indent=4, sort_keys=True))"
   ]
  },
  {
   "cell_type": "markdown",
   "metadata": {},
   "source": [
    "## update package (dataset)"
   ]
  },
  {
   "cell_type": "code",
   "execution_count": null,
   "metadata": {},
   "outputs": [],
   "source": [
    "sageCommonsURL='http://hotshot.sdsc.edu:5000'\n",
    "apiAction='/api/3/action/package_update'\n",
    "url = sageCommonsURL+apiAction\n",
    "tags = [{'name':'csv'},{'name':'waggle'},{'name':'sensors'}]\n",
    "\n",
    "resourceDict = {'owner_org': 'array-of-things',\n",
    "                'name' : 'denver',\n",
    "                'tags': tags\n",
    "                }\n",
    "files = []\n",
    "headers = {'Authorization': apiKey}\n",
    "response = requests.request(\"POST\", url, headers=headers, json = payload, files = files)\n",
    "jsonResponse = response.json()\n",
    "print(response)\n",
    "print(json.dumps(jsonResponse, indent=4, sort_keys=True))"
   ]
  },
  {
   "cell_type": "markdown",
   "metadata": {},
   "source": [
    "## delete dataset (package)"
   ]
  },
  {
   "cell_type": "code",
   "execution_count": null,
   "metadata": {},
   "outputs": [],
   "source": [
    "sageCommonsURL='http://hotshot.sdsc.edu:5000'\n",
    "apiAction='/api/3/action/package_delete'\n",
    "url = sageCommonsURL+apiAction\n",
    "dataPath='/Users/iperezx/Documents/sage-commons/aot/data.csv'\n",
    "payload = {'id': 'denver'}\n",
    "files = []\n",
    "headers = {'Authorization': apiKey}\n",
    "response = requests.request(\"POST\", url, headers=headers, data = payload, files = files)\n",
    "print(response)\n",
    "print(json.dumps(response.json(), indent=4, sort_keys=True))"
   ]
  },
  {
   "cell_type": "markdown",
   "metadata": {},
   "source": [
    "## create data and/or resources from csv file"
   ]
  },
  {
   "cell_type": "code",
   "execution_count": null,
   "metadata": {},
   "outputs": [],
   "source": [
    "sageCommonsURL='http://hotshot.sdsc.edu:5000'\n",
    "apiAction='/api/3/action/resource_create'\n",
    "packageID = '1b784390-5d56-4dc7-ae64-1c6fc3ce84cd'\n",
    "url = sageCommonsURL+apiAction\n",
    "dataPath='/Users/iperezx/Documents/sage-commons/aot/data.csv'\n",
    "payload = {'package_id': packageID,\n",
    "           'name' : 'Data',\n",
    "           'description': 'Description of data',\n",
    "          }\n",
    "files = {'upload': open(dataPath, 'rb')}\n",
    "headers = {'Authorization': apiKey}\n",
    "response = requests.request(\"POST\", url, headers=headers, json = payload, files = files)\n",
    "jsonResponse = response.json()\n",
    "print(response)\n",
    "print(json.dumps(jsonResponse, indent=4, sort_keys=True))"
   ]
  }
 ],
 "metadata": {
  "kernelspec": {
   "display_name": "Python 3",
   "language": "python",
   "name": "python3"
  },
  "language_info": {
   "codemirror_mode": {
    "name": "ipython",
    "version": 3
   },
   "file_extension": ".py",
   "mimetype": "text/x-python",
   "name": "python",
   "nbconvert_exporter": "python",
   "pygments_lexer": "ipython3",
   "version": "3.7.6"
  }
 },
 "nbformat": 4,
 "nbformat_minor": 4
}
