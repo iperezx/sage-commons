{
 "cells": [
  {
   "cell_type": "code",
   "execution_count": null,
   "metadata": {},
   "outputs": [],
   "source": [
    "import requests,json,os,time\n",
    "import random\n",
    "apiKey=os.getenv('CKANAPIKEY')\n",
    "if apiKey is None:\n",
    "    raise EnvironmentError(\"Failed because {} is not set.\".format('CKANAPIKEY'))"
   ]
  },
  {
   "cell_type": "code",
   "execution_count": null,
   "metadata": {},
   "outputs": [],
   "source": [
    "mainDir = '/Users/iperezx/Documents/sage-commons/sage-commons/'\n",
    "sageCommonsURL='http://127.0.0.1:5000'\n",
    "#sageCommonsURL='http://hotshot.sdsc.edu:5000'\n",
    "headers = {'Authorization': apiKey}\n",
    "orgName= 'sage'"
   ]
  },
  {
   "cell_type": "markdown",
   "metadata": {},
   "source": [
    "## import sdr data with query"
   ]
  },
  {
   "cell_type": "markdown",
   "metadata": {},
   "source": [
    "### create data resource"
   ]
  },
  {
   "cell_type": "code",
   "execution_count": null,
   "metadata": {},
   "outputs": [],
   "source": [
    "apiAction='/api/3/action/package_create'\n",
    "url = sageCommonsURL+apiAction\n",
    "title = 'test-plugin' + str(random.randint(1, 1e4))\n",
    "\n",
    "\n",
    "name = title\n",
    "# spatialVal = {\n",
    "#   \"type\":\"Polygon\",\n",
    "#   \"coordinates\":[[[2.05827, 49.8625],[2.05827, 55.7447], [-6.41736, 55.7447], [-6.41736, 49.8625], [2.05827, 49.8625]]]\n",
    "# }\n",
    "#extras = {'key': \"spatial\",'value': json.dumps(spatialVal) }\n",
    "tags = [{'name':'json'},{'name':'plugin'}]\n",
    "\n",
    "payload = {'owner_org': orgName,\n",
    "           'title': title,\n",
    "           'name' : name,\n",
    "           'notes': 'Description of dataset',\n",
    "           'tags' : tags,\n",
    "           #'extras': [extras]\n",
    "           \n",
    "          }\n",
    "\n",
    "response = requests.request(\"POST\", url, headers=headers, json = payload)\n",
    "jsonResponseDS = response.json()\n",
    "print(response)\n",
    "print(json.dumps(jsonResponseDS, indent=4, sort_keys=True))"
   ]
  },
  {
   "cell_type": "markdown",
   "metadata": {},
   "source": [
    "### create data source"
   ]
  },
  {
   "cell_type": "code",
   "execution_count": null,
   "metadata": {},
   "outputs": [],
   "source": [
    "apiAction='/api/3/action/sagecommons_create'\n",
    "packageID = jsonResponseDS['result']['id']\n",
    "url = sageCommonsURL+apiAction\n",
    "\n",
    "resourceName = 'plugin-test-pipeline'\n",
    "resourceDescription = 'Test plugin inference data'\n",
    "dataURL ='https://sdr.honeyhouse.one/api/v1/query'\n",
    "query = {\"start\": \"-10m\",\n",
    "        \"filter\": {\n",
    "            \"name\": \"test\"\n",
    "        }\n",
    "}\n",
    "\n",
    "resource = {'package_id': packageID,\n",
    "            'name' : resourceName,\n",
    "            'description': resourceDescription,\n",
    "            'url': dataURL,\n",
    "            'format':'JSON',\n",
    "            'query':query,\n",
    "           }\n",
    "\n",
    "\n",
    "payload = {'resource': resource,\n",
    "          }\n",
    "\n",
    "start = time.time() # start timing\n",
    "response = requests.request(\"POST\", url, headers=headers, json = payload)\n",
    "end = time.time()\n",
    "elapseTime = abs(end-start)\n",
    "print('Elapsed time: ' + str(elapseTime))"
   ]
  },
  {
   "cell_type": "code",
   "execution_count": null,
   "metadata": {},
   "outputs": [],
   "source": [
    "jsonResponse = response.json()\n",
    "print(response)\n",
    "print(response.text)\n",
    "print(json.dumps(jsonResponse, indent=4, sort_keys=True))"
   ]
  },
  {
   "cell_type": "code",
   "execution_count": null,
   "metadata": {},
   "outputs": [],
   "source": [
    "apiAction='/api/3/action/resource_view_list'\n",
    "resourceID = jsonResponse['result']['resource_id']\n",
    "url = sageCommonsURL+apiAction\n",
    "\n",
    "\n",
    "payload = {'id': resourceID,\n",
    "          }\n",
    "\n",
    "response = requests.request(\"GET\", url, headers=headers, json = payload)\n",
    "jsonResponse = response.json()\n",
    "print(json.dumps(jsonResponse, indent=4, sort_keys=True))"
   ]
  },
  {
   "cell_type": "code",
   "execution_count": null,
   "metadata": {},
   "outputs": [],
   "source": [
    "jsonResponse['result'][0]['id']"
   ]
  },
  {
   "cell_type": "code",
   "execution_count": null,
   "metadata": {},
   "outputs": [],
   "source": [
    "apiAction='/api/3/action/resource_view_delete'\n",
    "viewID = jsonResponse['result'][0]['id']\n",
    "url = sageCommonsURL+apiAction\n",
    "\n",
    "\n",
    "payload = {'id': viewID,\n",
    "          }\n",
    "\n",
    "response = requests.request(\"POST\", url, headers=headers, json = payload)\n",
    "jsonResponse = response.json()\n",
    "print(json.dumps(jsonResponse, indent=4, sort_keys=True))"
   ]
  },
  {
   "cell_type": "code",
   "execution_count": null,
   "metadata": {},
   "outputs": [],
   "source": [
    "import requests\n",
    "url = \"https://sdr.honeyhouse.one/api/v1/query\"\n",
    "payload = {\"start\": \"-10s\",\n",
    "        \"filter\": {\n",
    "            \"plugin\": \"test:\"\n",
    "        }\n",
    "}\n",
    "response = requests.post(url, json=payload,verify=False)\n",
    "print(response.text)"
   ]
  },
  {
   "cell_type": "markdown",
   "metadata": {},
   "source": [
    "## Vocabulary\n"
   ]
  },
  {
   "cell_type": "markdown",
   "metadata": {},
   "source": [
    "### create vocabulary"
   ]
  },
  {
   "cell_type": "code",
   "execution_count": null,
   "metadata": {},
   "outputs": [],
   "source": [
    "apiAction='/api/3/action/vocabulary_create'\n",
    "url = sageCommonsURL+apiAction\n",
    "\n",
    "name = 'plugin'\n",
    "\n",
    "tags = [{'name':'smoke_detection'},{'name':'cloud_detection'},\n",
    "        {'name':'x_detection'},{'name':'y_detection'},\n",
    "        {'name':'z_detection'}]\n",
    "\n",
    "payload = {\n",
    "           'name' : name,\n",
    "           'tags' : tags\n",
    "          }\n",
    "\n",
    "response = requests.request(\"POST\", url, headers=headers, json = payload)\n",
    "jsonResponseDS = response.json()\n",
    "print(response)\n",
    "print(json.dumps(jsonResponseDS, indent=4, sort_keys=True))"
   ]
  },
  {
   "cell_type": "markdown",
   "metadata": {},
   "source": [
    "### Get vocabulary"
   ]
  },
  {
   "cell_type": "code",
   "execution_count": null,
   "metadata": {},
   "outputs": [],
   "source": [
    "apiAction='/api/3/action/vocabulary_list'\n",
    "url = sageCommonsURL+apiAction\n",
    "\n",
    "response = requests.request(\"GET\", url, headers=headers, json = payload)\n",
    "jsonResponseDS = response.json()\n",
    "print(response)\n",
    "print(json.dumps(jsonResponseDS, indent=4, sort_keys=True))"
   ]
  },
  {
   "cell_type": "code",
   "execution_count": null,
   "metadata": {},
   "outputs": [],
   "source": [
    "import json\n",
    "import requests\n",
    "url = \"https://sdr.honeyhouse.one/api/v1/query\"\n",
    "payload={\"start\":\"-10s\"}\n",
    "response = requests.post(url, data=json.dumps(payload),verify=False)\n",
    "print(response.text)"
   ]
  },
  {
   "cell_type": "code",
   "execution_count": null,
   "metadata": {},
   "outputs": [],
   "source": []
  }
 ],
 "metadata": {
  "kernelspec": {
   "display_name": "Python 3",
   "language": "python",
   "name": "python3"
  },
  "language_info": {
   "codemirror_mode": {
    "name": "ipython",
    "version": 3
   },
   "file_extension": ".py",
   "mimetype": "text/x-python",
   "name": "python",
   "nbconvert_exporter": "python",
   "pygments_lexer": "ipython3",
   "version": "3.9.1"
  }
 },
 "nbformat": 4,
 "nbformat_minor": 4
}
