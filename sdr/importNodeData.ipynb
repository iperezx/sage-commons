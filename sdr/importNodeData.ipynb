{
 "cells": [
  {
   "cell_type": "code",
   "execution_count": 1,
   "metadata": {},
   "outputs": [],
   "source": [
    "import requests,json,os,time\n",
    "import random\n",
    "\n",
    "apiKey=os.getenv('CKANAPIKEY')\n",
    "if apiKey is None:\n",
    "    raise EnvironmentError(\"Failed because {} is not set.\".format('CKANAPIKEY'))"
   ]
  },
  {
   "cell_type": "code",
   "execution_count": 2,
   "metadata": {},
   "outputs": [],
   "source": [
    "mainDir = '/Users/iperezx/Documents/sage-commons/sage-commons/'\n",
    "# sageCommonsURL='http://127.0.0.1:5000'\n",
    "# sageCommonsURL='http://hotshot.sdsc.edu:5000'\n",
    "sageCommonsURL='https://sage-commons.sdsc.edu'\n",
    "headers = {'Authorization': apiKey}\n",
    "orgName= 'sage'"
   ]
  },
  {
   "cell_type": "markdown",
   "metadata": {},
   "source": [
    "## import sdr data with query"
   ]
  },
  {
   "cell_type": "markdown",
   "metadata": {},
   "source": [
    "### create data resource"
   ]
  },
  {
   "cell_type": "code",
   "execution_count": 3,
   "metadata": {},
   "outputs": [
    {
     "name": "stdout",
     "output_type": "stream",
     "text": [
      "<Response [200]>\n",
      "{\n",
      "    \"help\": \"https://sage-commons.sdsc.edu/api/3/action/help_show?name=package_create\",\n",
      "    \"result\": {\n",
      "        \"author\": null,\n",
      "        \"author_email\": null,\n",
      "        \"creator_user_id\": \"abbb7828-b01e-41e4-b9fb-00413a8336ca\",\n",
      "        \"extras\": [],\n",
      "        \"groups\": [],\n",
      "        \"id\": \"2587e9ab-db77-4690-9941-6933828840a0\",\n",
      "        \"isopen\": false,\n",
      "        \"license_id\": null,\n",
      "        \"license_title\": null,\n",
      "        \"maintainer\": null,\n",
      "        \"maintainer_email\": null,\n",
      "        \"metadata_created\": \"2021-06-29T21:52:14.971424\",\n",
      "        \"metadata_modified\": \"2021-06-29T21:52:14.971435\",\n",
      "        \"name\": \"dell-blade-nodes7231\",\n",
      "        \"notes\": \"Sage Dell Blade Nodes\",\n",
      "        \"num_resources\": 0,\n",
      "        \"num_tags\": 1,\n",
      "        \"organization\": {\n",
      "            \"approval_status\": \"approved\",\n",
      "            \"created\": \"2020-11-13T19:52:05.687360\",\n",
      "            \"description\": \"The research team that includes the University of Chicago, George Mason University, the University of California San Diego, Northern Illinois University, the University of Utah, the Lincoln Park Zoo, and collaborators at Argonne National Laboratory will design and build reusable software components and cyberinfrastructure services to support the new scientific measurement functions. These measures will range from in-situ analysis of high-bandwidth sensor data streams to adaptive system behaviors, such as adjusting the sampling rates and directional settings of LIDAR instruments or high-resolution cameras to capture events in more detail.  While the traditional method of reducing data volume on remote NEON towers works well for steady state conditions, Sage will provide the ability to detect ecosystem changes of interest at continental scale, allowing scientists to apply more sophisticated analytics in the field, capturing much greater detail on these changes.\\r\\n\\r\\nSage will be programmable cyberinfrastructure \\u2014 allowing edge software that can monitor everything from wildfires to wolf calls, and from urban traffic flows to rural lightning strikes.  With Sage, mountaintop networking towers in Southern California, and part of the HPWREN and WIFIRE project will be able to analyze camera data for natural hazards and even autonomously redirect cameras to zoom in on regions of interest.\\r\\n\\r\\nThe reusable cyberinfrastructure running on these Sage testbeds will give climate, traffic, and ecosystem scientists new data for building models to study coupled systems. The software and hardware components developed in Sage will be open-source and provide an open architecture to enable scientists from a range of fields to build their own intelligent sensor networks. The Waggle edge computing platform, developed at Argonne National Laboratory, will be the starting point for the intelligent nodes deployed across the country.  Waggle was launched in 2013 to permit a new breed of sensor-driven environmental science and smart city research.\\r\\n\\r\\nThe Sage team will also extend the current educational curriculum used in Chicago and will inspire young people \\u2014 with an emphasis on women and underrepresented populations \\u2014 to pursue science, technology, and mathematics careers by providing a platform for students to explore measurement-based science questions related to the natural and built environments.\\r\\n\\r\\nThe capabilities of machine learning and artificial intelligence didn\\u2019t exist a decade ago.  Sage opens the door to scientists who will be able to write code that can measure a near limitless number of urban and environmental elements.\",\n",
      "            \"id\": \"1d597acd-0147-4345-9f2f-b225b272841a\",\n",
      "            \"image_url\": \"https://sagecontinuum.org/wp-content/uploads/2019/11/sage-logo-side-widget.jpg\",\n",
      "            \"is_organization\": true,\n",
      "            \"name\": \"sage\",\n",
      "            \"revision_id\": \"1c4fa379-b31f-418f-96a4-70c6d06de563\",\n",
      "            \"state\": \"active\",\n",
      "            \"title\": \"Sage\",\n",
      "            \"type\": \"organization\"\n",
      "        },\n",
      "        \"owner_org\": \"1d597acd-0147-4345-9f2f-b225b272841a\",\n",
      "        \"private\": false,\n",
      "        \"relationships_as_object\": [],\n",
      "        \"relationships_as_subject\": [],\n",
      "        \"resources\": [],\n",
      "        \"revision_id\": \"a504a5f5-d95f-4e7b-937b-296706c7bcb3\",\n",
      "        \"state\": \"active\",\n",
      "        \"tags\": [\n",
      "            {\n",
      "                \"display_name\": \"json\",\n",
      "                \"id\": \"82e55bb5-e53f-4103-a940-693a377c380e\",\n",
      "                \"name\": \"json\",\n",
      "                \"state\": \"active\",\n",
      "                \"vocabulary_id\": null\n",
      "            }\n",
      "        ],\n",
      "        \"title\": \"Dell blade nodes7231\",\n",
      "        \"type\": \"dataset\",\n",
      "        \"url\": null,\n",
      "        \"version\": null\n",
      "    },\n",
      "    \"success\": true\n",
      "}\n"
     ]
    }
   ],
   "source": [
    "apiAction='/api/3/action/package_create'\n",
    "url = sageCommonsURL+apiAction\n",
    "title = 'Dell blade nodes' + str(random.randint(1, 1e4))\n",
    "name = title.lower().replace(' ','-')\n",
    "# spatialVal = {\n",
    "#   \"type\":\"Polygon\",\n",
    "#   \"coordinates\":[[[2.05827, 49.8625],[2.05827, 55.7447], [-6.41736, 55.7447], [-6.41736, 49.8625], [2.05827, 49.8625]]]\n",
    "# }\n",
    "#extras = {'key': \"spatial\",'value': json.dumps(spatialVal) }\n",
    "tags = [{'name':'json'}]\n",
    "\n",
    "payload = {'owner_org': orgName,\n",
    "           'title': title,\n",
    "           'name' : name,\n",
    "           'notes': 'Sage Dell Blade Nodes',\n",
    "           'tags' : tags,\n",
    "           #'extras': [extras]\n",
    "           \n",
    "          }\n",
    "\n",
    "response = requests.request(\"POST\", url, headers=headers, json = payload)\n",
    "jsonResponseDS = response.json()\n",
    "print(response)\n",
    "print(json.dumps(jsonResponseDS, indent=4, sort_keys=True))"
   ]
  },
  {
   "cell_type": "markdown",
   "metadata": {},
   "source": [
    "### create data source"
   ]
  },
  {
   "cell_type": "code",
   "execution_count": 4,
   "metadata": {},
   "outputs": [
    {
     "name": "stdout",
     "output_type": "stream",
     "text": [
      "Elapsed time: 0.42423176765441895\n"
     ]
    }
   ],
   "source": [
    "apiAction='/api/3/action/sagecommons_create'\n",
    "packageID = jsonResponseDS['result']['id']\n",
    "url = sageCommonsURL+apiAction\n",
    "\n",
    "resourceName = 'Nodes'\n",
    "resourceDescription = ''\n",
    "dataURL ='https://sage-data-api.nautilus.optiputer.net/api/v1/nodes-all'\n",
    "#query = {\"start\": \"2021-04-16T00:00:00Z\",\"end\":\"2021-04-16T23:59:59Z\"}\n",
    "# query = {'filter': {'name': 'test'}, \"tail\": 10,\"start\": \"-30d\"}\n",
    "\n",
    "resource = {'package_id': packageID,\n",
    "            'name' : resourceName,\n",
    "            'description': resourceDescription,\n",
    "            'url': dataURL,\n",
    "            'format':'JSON',\n",
    "            #'query':query,\n",
    "           }\n",
    "\n",
    "\n",
    "payload = {'resource': resource,\n",
    "          }\n",
    "\n",
    "start = time.time() # start timing\n",
    "response = requests.request(\"POST\", url, headers=headers, json = payload)\n",
    "end = time.time()\n",
    "elapseTime = abs(end-start)\n",
    "print('Elapsed time: ' + str(elapseTime))"
   ]
  },
  {
   "cell_type": "code",
   "execution_count": 5,
   "metadata": {},
   "outputs": [
    {
     "name": "stdout",
     "output_type": "stream",
     "text": [
      "<Response [200]>\n",
      "{\"help\": \"https://sage-commons.sdsc.edu/api/3/action/help_show?name=sagecommons_create\", \"success\": true, \"result\": {\"resource\": {\"mimetype\": null, \"name\": \"Nodes\", \"format\": \"JSON\", \"url\": \"https://sage-data-api.nautilus.optiputer.net/api/v1/nodes-all\", \"package_id\": \"2587e9ab-db77-4690-9941-6933828840a0\", \"description\": \"\"}, \"resource_id\": \"3c516edf-6612-4f44-acc0-868c0bbb9e29\"}}\n",
      "{\n",
      "    \"help\": \"https://sage-commons.sdsc.edu/api/3/action/help_show?name=sagecommons_create\",\n",
      "    \"result\": {\n",
      "        \"resource\": {\n",
      "            \"description\": \"\",\n",
      "            \"format\": \"JSON\",\n",
      "            \"mimetype\": null,\n",
      "            \"name\": \"Nodes\",\n",
      "            \"package_id\": \"2587e9ab-db77-4690-9941-6933828840a0\",\n",
      "            \"url\": \"https://sage-data-api.nautilus.optiputer.net/api/v1/nodes-all\"\n",
      "        },\n",
      "        \"resource_id\": \"3c516edf-6612-4f44-acc0-868c0bbb9e29\"\n",
      "    },\n",
      "    \"success\": true\n",
      "}\n"
     ]
    }
   ],
   "source": [
    "jsonResponse = response.json()\n",
    "print(response)\n",
    "print(response.text)\n",
    "print(json.dumps(jsonResponse, indent=4, sort_keys=True))"
   ]
  },
  {
   "cell_type": "code",
   "execution_count": 6,
   "metadata": {},
   "outputs": [
    {
     "name": "stdout",
     "output_type": "stream",
     "text": [
      "{\n",
      "    \"help\": \"https://sage-commons.sdsc.edu/api/3/action/help_show?name=resource_view_list\",\n",
      "    \"result\": [\n",
      "        {\n",
      "            \"description\": \"\",\n",
      "            \"id\": \"e02e3c84-beb1-4406-8595-252083e90d22\",\n",
      "            \"package_id\": \"2587e9ab-db77-4690-9941-6933828840a0\",\n",
      "            \"resource_id\": \"3c516edf-6612-4f44-acc0-868c0bbb9e29\",\n",
      "            \"title\": \"Text\",\n",
      "            \"view_type\": \"text_view\"\n",
      "        },\n",
      "        {\n",
      "            \"description\": null,\n",
      "            \"id\": \"b2f49042-f759-40c1-884b-d276938f58f5\",\n",
      "            \"package_id\": \"2587e9ab-db77-4690-9941-6933828840a0\",\n",
      "            \"resource_id\": \"3c516edf-6612-4f44-acc0-868c0bbb9e29\",\n",
      "            \"title\": \"Sage Interface View\",\n",
      "            \"view_type\": \"sageinterfaceview\"\n",
      "        }\n",
      "    ],\n",
      "    \"success\": true\n",
      "}\n"
     ]
    }
   ],
   "source": [
    "apiAction='/api/3/action/resource_view_list'\n",
    "resourceID = jsonResponse['result']['resource_id']\n",
    "url = sageCommonsURL+apiAction\n",
    "\n",
    "\n",
    "payload = {'id': resourceID,\n",
    "          }\n",
    "\n",
    "response = requests.request(\"GET\", url, headers=headers, json = payload)\n",
    "jsonResponse = response.json()\n",
    "print(json.dumps(jsonResponse, indent=4, sort_keys=True))"
   ]
  },
  {
   "cell_type": "code",
   "execution_count": 7,
   "metadata": {},
   "outputs": [
    {
     "data": {
      "text/plain": [
       "'e02e3c84-beb1-4406-8595-252083e90d22'"
      ]
     },
     "execution_count": 7,
     "metadata": {},
     "output_type": "execute_result"
    }
   ],
   "source": [
    "jsonResponse['result'][0]['id']"
   ]
  },
  {
   "cell_type": "code",
   "execution_count": 8,
   "metadata": {},
   "outputs": [
    {
     "name": "stdout",
     "output_type": "stream",
     "text": [
      "{\n",
      "    \"help\": \"https://sage-commons.sdsc.edu/api/3/action/help_show?name=resource_view_delete\",\n",
      "    \"result\": null,\n",
      "    \"success\": true\n",
      "}\n"
     ]
    }
   ],
   "source": [
    "apiAction='/api/3/action/resource_view_delete'\n",
    "viewID = jsonResponse['result'][0]['id']\n",
    "url = sageCommonsURL+apiAction\n",
    "\n",
    "\n",
    "payload = {'id': viewID,\n",
    "          }\n",
    "\n",
    "response = requests.request(\"POST\", url, headers=headers, json = payload)\n",
    "jsonResponse = response.json()\n",
    "print(json.dumps(jsonResponse, indent=4, sort_keys=True))"
   ]
  },
  {
   "cell_type": "code",
   "execution_count": 9,
   "metadata": {},
   "outputs": [],
   "source": [
    "# import requests\n",
    "# dataURL ='https://sage-node-api.nautilus.optiputer.net/api/v1/nodes-all'\n",
    "# response = requests.get(dataURL)\n",
    "# print(response.text)"
   ]
  }
 ],
 "metadata": {
  "kernelspec": {
   "display_name": "Python 3",
   "language": "python",
   "name": "python3"
  },
  "language_info": {
   "codemirror_mode": {
    "name": "ipython",
    "version": 3
   },
   "file_extension": ".py",
   "mimetype": "text/x-python",
   "name": "python",
   "nbconvert_exporter": "python",
   "pygments_lexer": "ipython3",
   "version": "3.9.1"
  }
 },
 "nbformat": 4,
 "nbformat_minor": 4
}
