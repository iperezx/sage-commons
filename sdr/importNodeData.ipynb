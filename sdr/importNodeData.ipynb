{
 "cells": [
  {
   "cell_type": "code",
   "execution_count": 1,
   "metadata": {},
   "outputs": [],
   "source": [
    "import requests,json,os,time\n",
    "import random\n",
    "apiKey=os.getenv('CKANAPIKEY')\n",
    "if apiKey is None:\n",
    "    raise EnvironmentError(\"Failed because {} is not set.\".format('CKANAPIKEY'))"
   ]
  },
  {
   "cell_type": "code",
   "execution_count": 2,
   "metadata": {},
   "outputs": [],
   "source": [
    "mainDir = '/Users/iperezx/Documents/sage-commons/sage-commons/'\n",
    "sageCommonsURL='http://127.0.0.1:5000'\n",
    "# sageCommonsURL='http://hotshot.sdsc.edu:5000'\n",
    "headers = {'Authorization': apiKey}\n",
    "orgName= 'sage'"
   ]
  },
  {
   "cell_type": "markdown",
   "metadata": {},
   "source": [
    "## import sdr data with query"
   ]
  },
  {
   "cell_type": "markdown",
   "metadata": {},
   "source": [
    "### create data resource"
   ]
  },
  {
   "cell_type": "code",
   "execution_count": 3,
   "metadata": {},
   "outputs": [
    {
     "name": "stdout",
     "output_type": "stream",
     "text": [
      "<Response [200]>\n",
      "{\n",
      "    \"help\": \"http://docker.for.mac.localhost:5000/api/3/action/help_show?name=package_create\",\n",
      "    \"result\": {\n",
      "        \"author\": null,\n",
      "        \"author_email\": null,\n",
      "        \"creator_user_id\": \"fee53ee6-064e-40c9-ad3f-0d9ad6dd1bda\",\n",
      "        \"extras\": [],\n",
      "        \"groups\": [],\n",
      "        \"id\": \"f525ba4b-be94-4d42-a4f5-21c6df54e126\",\n",
      "        \"isopen\": false,\n",
      "        \"license_id\": null,\n",
      "        \"license_title\": null,\n",
      "        \"maintainer\": null,\n",
      "        \"maintainer_email\": null,\n",
      "        \"metadata_created\": \"2021-06-02T22:36:24.683936\",\n",
      "        \"metadata_modified\": \"2021-06-02T22:36:24.683955\",\n",
      "        \"name\": \"dell-blade-nodes4666\",\n",
      "        \"notes\": \"Sage Dell Blade Nodes\",\n",
      "        \"num_resources\": 0,\n",
      "        \"num_tags\": 1,\n",
      "        \"organization\": {\n",
      "            \"approval_status\": \"approved\",\n",
      "            \"created\": \"2021-01-28T02:29:24.314230\",\n",
      "            \"description\": \"\",\n",
      "            \"id\": \"26aa9160-b30d-42d4-b879-2b7b90b0dcc5\",\n",
      "            \"image_url\": \"\",\n",
      "            \"is_organization\": true,\n",
      "            \"name\": \"sage\",\n",
      "            \"revision_id\": \"8ec8eee6-cefa-4c7f-9165-38fe9cd0f86c\",\n",
      "            \"state\": \"active\",\n",
      "            \"title\": \"sage\",\n",
      "            \"type\": \"organization\"\n",
      "        },\n",
      "        \"owner_org\": \"26aa9160-b30d-42d4-b879-2b7b90b0dcc5\",\n",
      "        \"private\": false,\n",
      "        \"relationships_as_object\": [],\n",
      "        \"relationships_as_subject\": [],\n",
      "        \"resources\": [],\n",
      "        \"revision_id\": \"63248d9b-ca2d-4ff2-8744-72477e437c52\",\n",
      "        \"state\": \"active\",\n",
      "        \"tags\": [\n",
      "            {\n",
      "                \"display_name\": \"json\",\n",
      "                \"id\": \"5a38fb48-7db1-4abf-8d1e-0968d11a0489\",\n",
      "                \"name\": \"json\",\n",
      "                \"state\": \"active\",\n",
      "                \"vocabulary_id\": null\n",
      "            }\n",
      "        ],\n",
      "        \"title\": \"Dell blade nodes4666\",\n",
      "        \"type\": \"dataset\",\n",
      "        \"url\": null,\n",
      "        \"version\": null\n",
      "    },\n",
      "    \"success\": true\n",
      "}\n"
     ]
    }
   ],
   "source": [
    "apiAction='/api/3/action/package_create'\n",
    "url = sageCommonsURL+apiAction\n",
    "title = 'Dell blade nodes' + str(random.randint(1, 1e4))\n",
    "name = title.lower().replace(' ','-')\n",
    "# spatialVal = {\n",
    "#   \"type\":\"Polygon\",\n",
    "#   \"coordinates\":[[[2.05827, 49.8625],[2.05827, 55.7447], [-6.41736, 55.7447], [-6.41736, 49.8625], [2.05827, 49.8625]]]\n",
    "# }\n",
    "#extras = {'key': \"spatial\",'value': json.dumps(spatialVal) }\n",
    "tags = [{'name':'json'}]\n",
    "\n",
    "payload = {'owner_org': orgName,\n",
    "           'title': title,\n",
    "           'name' : name,\n",
    "           'notes': 'Sage Dell Blade Nodes',\n",
    "           'tags' : tags,\n",
    "           #'extras': [extras]\n",
    "           \n",
    "          }\n",
    "\n",
    "response = requests.request(\"POST\", url, headers=headers, json = payload)\n",
    "jsonResponseDS = response.json()\n",
    "print(response)\n",
    "print(json.dumps(jsonResponseDS, indent=4, sort_keys=True))"
   ]
  },
  {
   "cell_type": "markdown",
   "metadata": {},
   "source": [
    "### create data source"
   ]
  },
  {
   "cell_type": "code",
   "execution_count": 4,
   "metadata": {},
   "outputs": [
    {
     "name": "stdout",
     "output_type": "stream",
     "text": [
      "Elapsed time: 0.12719416618347168\n"
     ]
    }
   ],
   "source": [
    "apiAction='/api/3/action/sagecommons_create'\n",
    "packageID = jsonResponseDS['result']['id']\n",
    "url = sageCommonsURL+apiAction\n",
    "\n",
    "resourceName = 'Nodes'\n",
    "resourceDescription = ''\n",
    "dataURL ='https://sage-data-api.nautilus.optiputer.net/api/v1/nodes-all'\n",
    "#query = {\"start\": \"2021-04-16T00:00:00Z\",\"end\":\"2021-04-16T23:59:59Z\"}\n",
    "# query = {'filter': {'name': 'test'}, \"tail\": 10,\"start\": \"-30d\"}\n",
    "\n",
    "resource = {'package_id': packageID,\n",
    "            'name' : resourceName,\n",
    "            'description': resourceDescription,\n",
    "            'url': dataURL,\n",
    "            'format':'JSON',\n",
    "            #'query':query,\n",
    "           }\n",
    "\n",
    "\n",
    "payload = {'resource': resource,\n",
    "          }\n",
    "\n",
    "start = time.time() # start timing\n",
    "response = requests.request(\"POST\", url, headers=headers, json = payload)\n",
    "end = time.time()\n",
    "elapseTime = abs(end-start)\n",
    "print('Elapsed time: ' + str(elapseTime))"
   ]
  },
  {
   "cell_type": "code",
   "execution_count": 5,
   "metadata": {},
   "outputs": [
    {
     "name": "stdout",
     "output_type": "stream",
     "text": [
      "<Response [200]>\n",
      "{\"help\": \"http://docker.for.mac.localhost:5000/api/3/action/help_show?name=sagecommons_create\", \"success\": true, \"result\": {\"resource\": {\"mimetype\": null, \"name\": \"Nodes\", \"format\": \"JSON\", \"url\": \"https://sage-data-api.nautilus.optiputer.net/api/v1/nodes-all\", \"package_id\": \"f525ba4b-be94-4d42-a4f5-21c6df54e126\", \"description\": \"\"}, \"resource_id\": \"e02ccef3-9d9e-495f-9a41-f3721096eac7\"}}\n",
      "{\n",
      "    \"help\": \"http://docker.for.mac.localhost:5000/api/3/action/help_show?name=sagecommons_create\",\n",
      "    \"result\": {\n",
      "        \"resource\": {\n",
      "            \"description\": \"\",\n",
      "            \"format\": \"JSON\",\n",
      "            \"mimetype\": null,\n",
      "            \"name\": \"Nodes\",\n",
      "            \"package_id\": \"f525ba4b-be94-4d42-a4f5-21c6df54e126\",\n",
      "            \"url\": \"https://sage-data-api.nautilus.optiputer.net/api/v1/nodes-all\"\n",
      "        },\n",
      "        \"resource_id\": \"e02ccef3-9d9e-495f-9a41-f3721096eac7\"\n",
      "    },\n",
      "    \"success\": true\n",
      "}\n"
     ]
    }
   ],
   "source": [
    "jsonResponse = response.json()\n",
    "print(response)\n",
    "print(response.text)\n",
    "print(json.dumps(jsonResponse, indent=4, sort_keys=True))"
   ]
  },
  {
   "cell_type": "code",
   "execution_count": 6,
   "metadata": {},
   "outputs": [
    {
     "name": "stdout",
     "output_type": "stream",
     "text": [
      "{\n",
      "    \"help\": \"http://docker.for.mac.localhost:5000/api/3/action/help_show?name=resource_view_list\",\n",
      "    \"result\": [\n",
      "        {\n",
      "            \"description\": \"\",\n",
      "            \"id\": \"df34c08a-2517-49c7-9067-1a29f18b5364\",\n",
      "            \"package_id\": \"f525ba4b-be94-4d42-a4f5-21c6df54e126\",\n",
      "            \"resource_id\": \"e02ccef3-9d9e-495f-9a41-f3721096eac7\",\n",
      "            \"title\": \"Text\",\n",
      "            \"view_type\": \"text_view\"\n",
      "        },\n",
      "        {\n",
      "            \"description\": null,\n",
      "            \"id\": \"509ae892-35ca-43f9-aebd-90db09fc64a1\",\n",
      "            \"package_id\": \"f525ba4b-be94-4d42-a4f5-21c6df54e126\",\n",
      "            \"resource_id\": \"e02ccef3-9d9e-495f-9a41-f3721096eac7\",\n",
      "            \"title\": \"Sage Interface View\",\n",
      "            \"view_type\": \"sageinterfaceview\"\n",
      "        }\n",
      "    ],\n",
      "    \"success\": true\n",
      "}\n"
     ]
    }
   ],
   "source": [
    "apiAction='/api/3/action/resource_view_list'\n",
    "resourceID = jsonResponse['result']['resource_id']\n",
    "url = sageCommonsURL+apiAction\n",
    "\n",
    "\n",
    "payload = {'id': resourceID,\n",
    "          }\n",
    "\n",
    "response = requests.request(\"GET\", url, headers=headers, json = payload)\n",
    "jsonResponse = response.json()\n",
    "print(json.dumps(jsonResponse, indent=4, sort_keys=True))"
   ]
  },
  {
   "cell_type": "code",
   "execution_count": 7,
   "metadata": {},
   "outputs": [
    {
     "data": {
      "text/plain": [
       "'df34c08a-2517-49c7-9067-1a29f18b5364'"
      ]
     },
     "execution_count": 7,
     "metadata": {},
     "output_type": "execute_result"
    }
   ],
   "source": [
    "jsonResponse['result'][0]['id']"
   ]
  },
  {
   "cell_type": "code",
   "execution_count": 8,
   "metadata": {},
   "outputs": [
    {
     "name": "stdout",
     "output_type": "stream",
     "text": [
      "{\n",
      "    \"help\": \"http://docker.for.mac.localhost:5000/api/3/action/help_show?name=resource_view_delete\",\n",
      "    \"result\": null,\n",
      "    \"success\": true\n",
      "}\n"
     ]
    }
   ],
   "source": [
    "apiAction='/api/3/action/resource_view_delete'\n",
    "viewID = jsonResponse['result'][0]['id']\n",
    "url = sageCommonsURL+apiAction\n",
    "\n",
    "\n",
    "payload = {'id': viewID,\n",
    "          }\n",
    "\n",
    "response = requests.request(\"POST\", url, headers=headers, json = payload)\n",
    "jsonResponse = response.json()\n",
    "print(json.dumps(jsonResponse, indent=4, sort_keys=True))"
   ]
  },
  {
   "cell_type": "code",
   "execution_count": 9,
   "metadata": {},
   "outputs": [],
   "source": [
    "# import requests\n",
    "# dataURL ='https://sage-node-api.nautilus.optiputer.net/api/v1/nodes-all'\n",
    "# response = requests.get(dataURL)\n",
    "# print(response.text)"
   ]
  }
 ],
 "metadata": {
  "kernelspec": {
   "display_name": "Python 3",
   "language": "python",
   "name": "python3"
  },
  "language_info": {
   "codemirror_mode": {
    "name": "ipython",
    "version": 3
   },
   "file_extension": ".py",
   "mimetype": "text/x-python",
   "name": "python",
   "nbconvert_exporter": "python",
   "pygments_lexer": "ipython3",
   "version": "3.9.1"
  }
 },
 "nbformat": 4,
 "nbformat_minor": 4
}
