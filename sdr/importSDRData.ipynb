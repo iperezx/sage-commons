{
 "cells": [
  {
   "cell_type": "code",
   "execution_count": 1,
   "metadata": {},
   "outputs": [],
   "source": [
    "import requests,json,os,time\n",
    "apiKey=os.getenv('CKANAPIKEY')\n",
    "if apiKey is None:\n",
    "    raise EnvironmentError(\"Failed because {} is not set.\".format('CKANAPIKEY'))"
   ]
  },
  {
   "cell_type": "code",
   "execution_count": 2,
   "metadata": {},
   "outputs": [],
   "source": [
    "def createDataResource(apiEndpoint,headers,payload):\n",
    "    response = requests.request(\"POST\", apiEndpoint, headers=headers, json = payload)\n",
    "    return response\n",
    "    \n",
    "def getFieldsTemplate():\n",
    "    template = {\n",
    "                \"id\": None,\n",
    "                \"info\": \n",
    "                {\n",
    "                    \"label\": None,\n",
    "                    \"notes\": None\n",
    "                }\n",
    "            }\n",
    "    return template\n",
    "\n",
    "def getFieldsForCKAN(metadata):\n",
    "    fieldsList=[]\n",
    "    for key,val in metadata.items():\n",
    "        template = getFieldsTemplate()\n",
    "        template['id'] = key\n",
    "        template['info']['label'] = key\n",
    "        template['info']['notes'] = val\n",
    "        fieldsList.append(template)\n",
    "    return fieldsList"
   ]
  },
  {
   "cell_type": "code",
   "execution_count": 3,
   "metadata": {},
   "outputs": [],
   "source": [
    "mainDir = '/Users/iperezx/Documents/sage-commons/sage-commons/'\n",
    "sageCommonsURL='http://127.0.0.1:5000'\n",
    "headers = {'Authorization': apiKey}\n",
    "orgName= 'sage'"
   ]
  },
  {
   "cell_type": "markdown",
   "metadata": {},
   "source": [
    "## import sdr data with query"
   ]
  },
  {
   "cell_type": "markdown",
   "metadata": {},
   "source": [
    "### create data resource"
   ]
  },
  {
   "cell_type": "code",
   "execution_count": 4,
   "metadata": {},
   "outputs": [
    {
     "name": "stdout",
     "output_type": "stream",
     "text": [
      "<Response [200]>\n",
      "{\n",
      "    \"help\": \"http://docker.for.mac.localhost:5000/api/3/action/help_show?name=package_create\",\n",
      "    \"result\": {\n",
      "        \"author\": null,\n",
      "        \"author_email\": null,\n",
      "        \"creator_user_id\": \"fee53ee6-064e-40c9-ad3f-0d9ad6dd1bda\",\n",
      "        \"extras\": [],\n",
      "        \"groups\": [],\n",
      "        \"id\": \"76b28dfc-420d-4232-aa85-eb5d7e5849fa\",\n",
      "        \"isopen\": false,\n",
      "        \"license_id\": null,\n",
      "        \"license_title\": null,\n",
      "        \"maintainer\": null,\n",
      "        \"maintainer_email\": null,\n",
      "        \"metadata_created\": \"2021-03-12T00:10:33.033617\",\n",
      "        \"metadata_modified\": \"2021-03-12T00:10:33.033633\",\n",
      "        \"name\": \"plugin-data442352352\",\n",
      "        \"notes\": \"Description of dataset\",\n",
      "        \"num_resources\": 0,\n",
      "        \"num_tags\": 2,\n",
      "        \"organization\": {\n",
      "            \"approval_status\": \"approved\",\n",
      "            \"created\": \"2021-01-28T02:29:24.314230\",\n",
      "            \"description\": \"\",\n",
      "            \"id\": \"26aa9160-b30d-42d4-b879-2b7b90b0dcc5\",\n",
      "            \"image_url\": \"\",\n",
      "            \"is_organization\": true,\n",
      "            \"name\": \"sage\",\n",
      "            \"revision_id\": \"8ec8eee6-cefa-4c7f-9165-38fe9cd0f86c\",\n",
      "            \"state\": \"active\",\n",
      "            \"title\": \"sage\",\n",
      "            \"type\": \"organization\"\n",
      "        },\n",
      "        \"owner_org\": \"26aa9160-b30d-42d4-b879-2b7b90b0dcc5\",\n",
      "        \"private\": false,\n",
      "        \"relationships_as_object\": [],\n",
      "        \"relationships_as_subject\": [],\n",
      "        \"resources\": [],\n",
      "        \"revision_id\": \"1b1d88fe-92bf-4586-87ca-ec3ee7e9fd6d\",\n",
      "        \"state\": \"active\",\n",
      "        \"tags\": [\n",
      "            {\n",
      "                \"display_name\": \"json\",\n",
      "                \"id\": \"5a38fb48-7db1-4abf-8d1e-0968d11a0489\",\n",
      "                \"name\": \"json\",\n",
      "                \"state\": \"active\",\n",
      "                \"vocabulary_id\": null\n",
      "            },\n",
      "            {\n",
      "                \"display_name\": \"smoke_detection\",\n",
      "                \"id\": \"8fecd174-b4db-4f78-a70c-ef0443200cb3\",\n",
      "                \"name\": \"smoke_detection\",\n",
      "                \"state\": \"active\",\n",
      "                \"vocabulary_id\": null\n",
      "            }\n",
      "        ],\n",
      "        \"title\": \"Query from SDR\",\n",
      "        \"type\": \"dataset\",\n",
      "        \"url\": null,\n",
      "        \"version\": null\n",
      "    },\n",
      "    \"success\": true\n",
      "}\n"
     ]
    }
   ],
   "source": [
    "apiAction='/api/3/action/package_create'\n",
    "url = sageCommonsURL+apiAction\n",
    "\n",
    "title = 'Query from SDR'\n",
    "\n",
    "name = 'plugin-data442352352'\n",
    "\n",
    "tags = [{'name':'json'},{'name':'smoke_detection'}]\n",
    "\n",
    "payload = {'owner_org': orgName,\n",
    "           'title': title,\n",
    "           'name' : name,\n",
    "           'notes': 'Description of dataset',\n",
    "           'tags' : tags\n",
    "          }\n",
    "\n",
    "response = createDataResource(url,headers,payload)\n",
    "jsonResponseDS = response.json()\n",
    "print(response)\n",
    "print(json.dumps(jsonResponseDS, indent=4, sort_keys=True))"
   ]
  },
  {
   "cell_type": "markdown",
   "metadata": {},
   "source": [
    "### create data source"
   ]
  },
  {
   "cell_type": "code",
   "execution_count": 11,
   "metadata": {},
   "outputs": [
    {
     "name": "stdout",
     "output_type": "stream",
     "text": [
      "Elapsed time: 0.03220725059509277\n"
     ]
    }
   ],
   "source": [
    "apiAction='/api/3/action/sagecommons_create'\n",
    "packageID = jsonResponseDS['result']['id']\n",
    "url = sageCommonsURL+apiAction\n",
    "\n",
    "resourceName = 'plugin-smoke'\n",
    "resourceDescription = 'Smoke detection plugin inference data'\n",
    "dataURL ='https://sage-node-api.nautilus.optiputer.net/api/v1/nodes-all'\n",
    "\n",
    "resource = {'package_id': packageID,\n",
    "            'name' : resourceName,\n",
    "            'description': resourceDescription\n",
    "           }\n",
    "\n",
    "\n",
    "payload = {'resource': resource,\n",
    "           'url': dataURL\n",
    "          }\n",
    "\n",
    "start = time.time() # start timing\n",
    "response = requests.request(\"POST\", url, headers=headers, json = payload)\n",
    "end = time.time()\n",
    "elapseTime = abs(end-start)\n",
    "print('Elapsed time: ' + str(elapseTime))"
   ]
  },
  {
   "cell_type": "code",
   "execution_count": 12,
   "metadata": {},
   "outputs": [
    {
     "name": "stdout",
     "output_type": "stream",
     "text": [
      "<Response [200]>\n",
      "{\"help\": \"http://docker.for.mac.localhost:5000/api/3/action/help_show?name=sagecommons_create\", \"success\": true, \"result\": {\"resource\": {\"package_id\": \"76b28dfc-420d-4232-aa85-eb5d7e5849fa\", \"name\": \"plugin-smoke\", \"description\": \"Smoke detection plugin inference data\"}, \"__extras\": {\"url\": \"https://sage-node-api.nautilus.optiputer.net/api/v1/nodes-all\"}}}\n",
      "{\n",
      "    \"help\": \"http://docker.for.mac.localhost:5000/api/3/action/help_show?name=sagecommons_create\",\n",
      "    \"result\": {\n",
      "        \"__extras\": {\n",
      "            \"url\": \"https://sage-node-api.nautilus.optiputer.net/api/v1/nodes-all\"\n",
      "        },\n",
      "        \"resource\": {\n",
      "            \"description\": \"Smoke detection plugin inference data\",\n",
      "            \"name\": \"plugin-smoke\",\n",
      "            \"package_id\": \"76b28dfc-420d-4232-aa85-eb5d7e5849fa\"\n",
      "        }\n",
      "    },\n",
      "    \"success\": true\n",
      "}\n"
     ]
    }
   ],
   "source": [
    "jsonResponse = response.json()\n",
    "print(response)\n",
    "print(response.text)\n",
    "print(json.dumps(jsonResponse, indent=4, sort_keys=True))"
   ]
  },
  {
   "cell_type": "markdown",
   "metadata": {},
   "source": [
    "## Vocabulary\n"
   ]
  },
  {
   "cell_type": "markdown",
   "metadata": {},
   "source": [
    "### create vocabulary"
   ]
  },
  {
   "cell_type": "code",
   "execution_count": null,
   "metadata": {},
   "outputs": [],
   "source": [
    "apiAction='/api/3/action/vocabulary_create'\n",
    "url = sageCommonsURL+apiAction\n",
    "\n",
    "name = 'plugin'\n",
    "\n",
    "tags = [{'name':'smoke_detection'},{'name':'cloud_detection'},\n",
    "        {'name':'x_detection'},{'name':'y_detection'},\n",
    "        {'name':'z_detection'}]\n",
    "\n",
    "payload = {\n",
    "           'name' : name,\n",
    "           'tags' : tags\n",
    "          }\n",
    "\n",
    "response = requests.request(\"POST\", url, headers=headers, json = payload)\n",
    "jsonResponseDS = response.json()\n",
    "print(response)\n",
    "print(json.dumps(jsonResponseDS, indent=4, sort_keys=True))"
   ]
  },
  {
   "cell_type": "markdown",
   "metadata": {},
   "source": [
    "### Get vocabulary"
   ]
  },
  {
   "cell_type": "code",
   "execution_count": null,
   "metadata": {},
   "outputs": [],
   "source": [
    "apiAction='/api/3/action/vocabulary_list'\n",
    "url = sageCommonsURL+apiAction\n",
    "\n",
    "response = requests.request(\"GET\", url, headers=headers, json = payload)\n",
    "jsonResponseDS = response.json()\n",
    "print(response)\n",
    "print(json.dumps(jsonResponseDS, indent=4, sort_keys=True))"
   ]
  },
  {
   "cell_type": "code",
   "execution_count": null,
   "metadata": {},
   "outputs": [],
   "source": []
  }
 ],
 "metadata": {
  "kernelspec": {
   "display_name": "Python 3",
   "language": "python",
   "name": "python3"
  },
  "language_info": {
   "codemirror_mode": {
    "name": "ipython",
    "version": 3
   },
   "file_extension": ".py",
   "mimetype": "text/x-python",
   "name": "python",
   "nbconvert_exporter": "python",
   "pygments_lexer": "ipython3",
   "version": "3.9.1"
  }
 },
 "nbformat": 4,
 "nbformat_minor": 4
}
